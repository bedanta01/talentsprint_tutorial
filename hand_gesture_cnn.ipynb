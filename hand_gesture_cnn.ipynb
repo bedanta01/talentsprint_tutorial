{
 "cells": [
  {
   "cell_type": "markdown",
   "metadata": {},
   "source": [
    "## Load data"
   ]
  },
  {
   "cell_type": "code",
   "execution_count": 1,
   "metadata": {},
   "outputs": [],
   "source": [
    "import h5py\n",
    "import numpy as np\n",
    "\n",
    "def load_dataset():\n",
    "    train_dataset = h5py.File('data/train_signs.h5', 'r')\n",
    "    train_set_x_orig = np.array(train_dataset['train_set_x'][:]) # your train set features\n",
    "    train_set_y_orig = np.array(train_dataset['train_set_y'][:]) # your train set labels\n",
    "\n",
    "    test_dataset = h5py.File('data/test_signs.h5', 'r')\n",
    "    test_set_x_orig = np.array(test_dataset['test_set_x'][:]) # your test set features\n",
    "    test_set_y_orig = np.array(test_dataset['test_set_y'][:]) # your test set labels\n",
    "\n",
    "    classes = np.array(test_dataset['list_classes'][:]) # the list of classes\n",
    "    \n",
    "    train_set_y_orig = train_set_y_orig.reshape((1, train_set_y_orig.shape[0]))\n",
    "    test_set_y_orig = test_set_y_orig.reshape((1, test_set_y_orig.shape[0]))\n",
    "    \n",
    "    return train_set_x_orig, train_set_y_orig, test_set_x_orig, test_set_y_orig, classes\n",
    "\n",
    "X_train, y_train, X_val, y_val, classes = load_dataset()"
   ]
  },
  {
   "cell_type": "markdown",
   "metadata": {},
   "source": [
    "Visualize a sample data"
   ]
  },
  {
   "cell_type": "code",
   "execution_count": 2,
   "metadata": {},
   "outputs": [
    {
     "data": {
      "image/png": "[encoded data removed]",
      "text/plain": [
       "<matplotlib.figure.Figure at 0x7f213457c128>"
      ]
     },
     "metadata": {},
     "output_type": "display_data"
    }
   ],
   "source": [
    "import matplotlib.pyplot as plt\n",
    "%matplotlib inline\n",
    "\n",
    "index = 0\n",
    "plt.imshow(X_train[index])\n",
    "plt.title('Label {}'.format(np.squeeze(y_train[:, index])))\n",
    "\n",
    "plt.show()"
   ]
  },
  {
   "cell_type": "markdown",
   "metadata": {},
   "source": [
    "Examine shapes of data"
   ]
  },
  {
   "cell_type": "code",
   "execution_count": 3,
   "metadata": {},
   "outputs": [
    {
     "name": "stdout",
     "output_type": "stream",
     "text": [
      "Train data: (1080, 64, 64, 3)\n",
      "Train labels: (1, 1080)\n",
      "Validation data: (120, 64, 64, 3)\n",
      "Validation labels: (1, 120)\n"
     ]
    }
   ],
   "source": [
    "print(\"Train data:\", X_train.shape)\n",
    "print(\"Train labels:\", y_train.shape)\n",
    "\n",
    "print(\"Validation data:\", X_val.shape)\n",
    "print(\"Validation labels:\", y_val.shape)"
   ]
  },
  {
   "cell_type": "markdown",
   "metadata": {},
   "source": [
    "## Preprocess data"
   ]
  },
  {
   "cell_type": "markdown",
   "metadata": {},
   "source": [
    "We can see that data is composed of [m, H, W, C], which:\n",
    "+ m: Number of data\n",
    "+ H, W: Picture's height & width\n",
    "+ C: Number of channels\n",
    "    \n",
    "For Pytorch, we need [m, C, H, W]"
   ]
  },
  {
   "cell_type": "code",
   "execution_count": 4,
   "metadata": {},
   "outputs": [],
   "source": [
    "X_train = X_train.reshape(-1, 3, 64, 64)\n",
    "X_val = X_val.reshape(-1, 3, 64, 64)"
   ]
  },
  {
   "cell_type": "markdown",
   "metadata": {},
   "source": [
    "Normalization: Devide by 255."
   ]
  },
  {
   "cell_type": "code",
   "execution_count": 5,
   "metadata": {},
   "outputs": [],
   "source": [
    "X_train = X_train / 255.\n",
    "X_val = X_val / 255."
   ]
  },
  {
   "cell_type": "markdown",
   "metadata": {},
   "source": [
    "## Make dataset/dataloader"
   ]
  },
  {
   "cell_type": "markdown",
   "metadata": {},
   "source": [
    "Convert data to Pytorch's tensors"
   ]
  },
  {
   "cell_type": "code",
   "execution_count": 6,
   "metadata": {},
   "outputs": [],
   "source": [
    "import torch\n",
    "\n",
    "X_train_tensor = torch.from_numpy(X_train.astype('float32'))\n",
    "y_train_tensor = torch.from_numpy(np.squeeze(y_train).astype('int'))\n",
    "\n",
    "X_val_tensor = torch.from_numpy(X_val.astype('float32'))\n",
    "y_val_tensor = torch.from_numpy(np.squeeze(y_val).astype('int'))"
   ]
  },
  {
   "cell_type": "markdown",
   "metadata": {},
   "source": [
    "Make dataset from tensors"
   ]
  },
  {
   "cell_type": "code",
   "execution_count": 7,
   "metadata": {},
   "outputs": [],
   "source": [
    "from torch.utils.data import TensorDataset\n",
    "\n",
    "train_dataset = TensorDataset(X_train_tensor, y_train_tensor)\n",
    "val_dataset = TensorDataset(X_val_tensor, y_val_tensor)"
   ]
  },
  {
   "cell_type": "markdown",
   "metadata": {},
   "source": [
    "Test dataset maker"
   ]
  },
  {
   "cell_type": "code",
   "execution_count": 8,
   "metadata": {},
   "outputs": [
    {
     "name": "stdout",
     "output_type": "stream",
     "text": [
      "Length of dataset: 1080\n",
      "Sample X: \n",
      "(0 ,.,.) = \n",
      "  0.8902  0.8627  0.8392  ...   0.9020  0.8824  0.9137\n",
      "  0.9059  0.8824  0.9098  ...   0.8980  0.9216  0.9176\n",
      "  0.8941  0.9216  0.9176  ...   0.9020  0.8980  0.8667\n",
      "           ...             ⋱             ...          \n",
      "  0.8824  0.8706  0.8784  ...   0.8824  0.8902  0.8980\n",
      "  0.8784  0.8902  0.8941  ...   0.8863  0.8863  0.8667\n",
      "  0.8627  0.8431  0.8157  ...   0.8784  0.8667  0.8784\n",
      "\n",
      "(1 ,.,.) = \n",
      "  0.8824  0.8706  0.8784  ...   0.8784  0.8863  0.8902\n",
      "  0.8784  0.8863  0.8902  ...   0.8824  0.8824  0.8667\n",
      "  0.8627  0.8471  0.8196  ...   0.8745  0.8588  0.8745\n",
      "           ...             ⋱             ...          \n",
      "  0.7412  0.8196  0.8196  ...   0.8588  0.8627  0.8510\n",
      "  0.8196  0.7765  0.7333  ...   0.4000  0.3059  0.5529\n",
      "  0.4078  0.3176  0.5647  ...   0.6824  0.8471  0.8549\n",
      "\n",
      "(2 ,.,.) = \n",
      "  0.8471  0.8471  0.8549  ...   0.8588  0.8588  0.8510\n",
      "  0.8118  0.7686  0.7255  ...   0.4000  0.3059  0.5725\n",
      "  0.4196  0.3176  0.5961  ...   0.5020  0.7961  0.6941\n",
      "           ...             ⋱             ...          \n",
      "  0.4667  0.3176  0.2000  ...   0.4392  0.4667  0.4510\n",
      "  0.4627  0.4902  0.4784  ...   0.8078  0.8000  0.8039\n",
      "  0.8118  0.8078  0.8118  ...   0.8157  0.8196  0.8196\n",
      "[torch.FloatTensor of size 3x64x64]\n",
      "\n",
      "Sample y: 5\n"
     ]
    }
   ],
   "source": [
    "print(\"Length of dataset:\", len(train_dataset))\n",
    "\n",
    "X_sample, y_sample = train_dataset[0]\n",
    "print(\"Sample X:\", X_sample)\n",
    "print(\"Sample y:\", y_sample)"
   ]
  },
  {
   "cell_type": "markdown",
   "metadata": {},
   "source": [
    "Now make a data loader"
   ]
  },
  {
   "cell_type": "code",
   "execution_count": 9,
   "metadata": {},
   "outputs": [],
   "source": [
    "from torch.utils.data import DataLoader\n",
    "\n",
    "BATCH_SIZE = 128\n",
    "\n",
    "train_loader = DataLoader(dataset=train_dataset,\n",
    "                          batch_size=BATCH_SIZE,\n",
    "                          shuffle=True)\n",
    "\n",
    "val_loader = DataLoader(dataset=val_dataset,\n",
    "                        batch_size=BATCH_SIZE,\n",
    "                        shuffle=False)"
   ]
  },
  {
   "cell_type": "markdown",
   "metadata": {},
   "source": [
    "## Build model"
   ]
  },
  {
   "cell_type": "markdown",
   "metadata": {},
   "source": [
    "A basic CNN"
   ]
  },
  {
   "cell_type": "code",
   "execution_count": 10,
   "metadata": {},
   "outputs": [],
   "source": [
    "import torch.nn as nn\n",
    "\n",
    "class CNN(nn.Module):\n",
    "    def __init__(self):\n",
    "        super(CNN, self).__init__()\n",
    "        \n",
    "        self.layer1 = nn.Sequential(\n",
    "            nn.Conv2d(3, 16, kernel_size=5),\n",
    "            nn.BatchNorm2d(16),\n",
    "            nn.ReLU(),\n",
    "            nn.MaxPool2d(2)\n",
    "        )\n",
    "        self.layer2 = nn.Sequential(\n",
    "            nn.Conv2d(16, 32, kernel_size=5),\n",
    "            nn.BatchNorm2d(32),\n",
    "            nn.ReLU(),\n",
    "            nn.MaxPool2d(2)\n",
    "        )\n",
    "        self.fc1 = nn.Sequential(\n",
    "            nn.Linear(32*13*13, 1024),\n",
    "            nn.ReLU()\n",
    "        )\n",
    "        self.fc2 = nn.Linear(1024, len(classes))\n",
    "        \n",
    "    def forward(self, x):\n",
    "        out = self.layer1(x)\n",
    "        out = self.layer2(out)\n",
    "        out = out.view(out.size(0), -1) # flatten [m, C, H, W] -> [m, C*H*W]\n",
    "        out = self.fc1(out)\n",
    "        out = self.fc2(out)\n",
    "        return out"
   ]
  },
  {
   "cell_type": "code",
   "execution_count": 11,
   "metadata": {},
   "outputs": [
    {
     "name": "stdout",
     "output_type": "stream",
     "text": [
      "CNN (\n",
      "  (layer1): Sequential (\n",
      "    (0): Conv2d(3, 16, kernel_size=(5, 5), stride=(1, 1))\n",
      "    (1): BatchNorm2d(16, eps=1e-05, momentum=0.1, affine=True)\n",
      "    (2): ReLU ()\n",
      "    (3): MaxPool2d (size=(2, 2), stride=(2, 2), dilation=(1, 1))\n",
      "  )\n",
      "  (layer2): Sequential (\n",
      "    (0): Conv2d(16, 32, kernel_size=(5, 5), stride=(1, 1))\n",
      "    (1): BatchNorm2d(32, eps=1e-05, momentum=0.1, affine=True)\n",
      "    (2): ReLU ()\n",
      "    (3): MaxPool2d (size=(2, 2), stride=(2, 2), dilation=(1, 1))\n",
      "  )\n",
      "  (fc1): Sequential (\n",
      "    (0): Linear (5408 -> 1024)\n",
      "    (1): ReLU ()\n",
      "  )\n",
      "  (fc2): Linear (1024 -> 6)\n",
      ")\n"
     ]
    }
   ],
   "source": [
    "model = CNN()\n",
    "model = model.cuda() # use GPU\n",
    "print(model)"
   ]
  },
  {
   "cell_type": "code",
   "execution_count": 12,
   "metadata": {},
   "outputs": [],
   "source": [
    "criterion = nn.CrossEntropyLoss()\n",
    "optimizer = torch.optim.Adam(model.parameters(), lr=1e-3)"
   ]
  },
  {
   "cell_type": "markdown",
   "metadata": {},
   "source": [
    "## Train"
   ]
  },
  {
   "cell_type": "code",
   "execution_count": 13,
   "metadata": {},
   "outputs": [],
   "source": [
    "from torch.autograd import Variable\n",
    "\n",
    "def fit(epochs):\n",
    "    history = {\n",
    "        'loss': [],\n",
    "        'val_acc': []\n",
    "    }\n",
    "    \n",
    "    def train(epoch):\n",
    "        model.train()\n",
    "\n",
    "        ITERATIONS = len(train_dataset) // BATCH_SIZE + 1\n",
    "        for i, (data, target) in enumerate(train_loader):\n",
    "            data, target = Variable(data), Variable(target)\n",
    "            data, target = data.cuda(), target.cuda() # use GPU\n",
    "\n",
    "            ## forward \n",
    "            output = model(data)\n",
    "\n",
    "            ## compute loss\n",
    "            loss = criterion(output, target)\n",
    "\n",
    "            ## bacwward and update\n",
    "            optimizer.zero_grad()\n",
    "            loss.backward()\n",
    "            optimizer.step()\n",
    "\n",
    "            ## Regularly check\n",
    "            if (i+1) % 3 == 0:\n",
    "                print(\"({}) [{}/{}] loss: {:.4f}\".format(epoch+1, i+1, ITERATIONS,\n",
    "                                                         loss.data[0]))\n",
    "\n",
    "        ## save training loss\n",
    "        history['loss'].append(loss.data[0])\n",
    "\n",
    "\n",
    "    def validate():\n",
    "        model.eval()\n",
    "\n",
    "        total = len(val_dataset)\n",
    "        correct = 0\n",
    "        for data, target in val_loader:\n",
    "            data, target = Variable(data, volatile=True), Variable(target)\n",
    "            data, target = data.cuda(), target.cuda() # use GPU\n",
    "\n",
    "            # forward\n",
    "            output = model(data)\n",
    "\n",
    "            # get index of the max\n",
    "            pred = output.data.max(1, keepdim=True)[1]\n",
    "            correct += pred.eq(target.data.view_as(pred)).cpu().sum() # check equality, then sum up\n",
    "\n",
    "        val_acc = correct/total\n",
    "        print(\"val_acc: {:.2f}\".format(correct/total))\n",
    "        \n",
    "        # Save validation accuracy\n",
    "        history['val_acc'].append(val_acc)        \n",
    "\n",
    "    ## Start training, validate accuracy each epoch\n",
    "    for epoch in range(0, epochs):\n",
    "        train(epoch)\n",
    "        validate()\n",
    "    \n",
    "    return history"
   ]
  },
  {
   "cell_type": "code",
   "execution_count": 14,
   "metadata": {
    "scrolled": true
   },
   "outputs": [
    {
     "name": "stdout",
     "output_type": "stream",
     "text": [
      "(1) [3/9] loss: 4.1445\n",
      "(1) [6/9] loss: 2.5137\n",
      "(1) [9/9] loss: 1.8246\n",
      "val_acc: 0.25\n",
      "(2) [3/9] loss: 1.3938\n",
      "(2) [6/9] loss: 1.2439\n",
      "(2) [9/9] loss: 0.9854\n",
      "val_acc: 0.23\n",
      "(3) [3/9] loss: 1.0358\n",
      "(3) [6/9] loss: 0.8357\n",
      "(3) [9/9] loss: 0.9112\n",
      "val_acc: 0.35\n",
      "(4) [3/9] loss: 0.8272\n",
      "(4) [6/9] loss: 0.8397\n",
      "(4) [9/9] loss: 0.8075\n",
      "val_acc: 0.48\n",
      "(5) [3/9] loss: 0.6582\n",
      "(5) [6/9] loss: 0.6729\n",
      "(5) [9/9] loss: 0.5727\n",
      "val_acc: 0.67\n",
      "(6) [3/9] loss: 0.5456\n",
      "(6) [6/9] loss: 0.5397\n",
      "(6) [9/9] loss: 0.3559\n",
      "val_acc: 0.72\n",
      "(7) [3/9] loss: 0.4304\n",
      "(7) [6/9] loss: 0.2867\n",
      "(7) [9/9] loss: 0.4258\n",
      "val_acc: 0.68\n",
      "(8) [3/9] loss: 0.2937\n",
      "(8) [6/9] loss: 0.2740\n",
      "(8) [9/9] loss: 0.5020\n",
      "val_acc: 0.74\n",
      "(9) [3/9] loss: 0.3279\n",
      "(9) [6/9] loss: 0.2009\n",
      "(9) [9/9] loss: 0.1954\n",
      "val_acc: 0.68\n",
      "(10) [3/9] loss: 0.2255\n",
      "(10) [6/9] loss: 0.2434\n",
      "(10) [9/9] loss: 0.1995\n",
      "val_acc: 0.71\n",
      "(11) [3/9] loss: 0.1205\n",
      "(11) [6/9] loss: 0.1370\n",
      "(11) [9/9] loss: 0.1696\n",
      "val_acc: 0.64\n",
      "(12) [3/9] loss: 0.0951\n",
      "(12) [6/9] loss: 0.1024\n",
      "(12) [9/9] loss: 0.1194\n",
      "val_acc: 0.87\n",
      "(13) [3/9] loss: 0.1133\n",
      "(13) [6/9] loss: 0.0671\n",
      "(13) [9/9] loss: 0.1153\n",
      "val_acc: 0.83\n",
      "(14) [3/9] loss: 0.0655\n",
      "(14) [6/9] loss: 0.0826\n",
      "(14) [9/9] loss: 0.0796\n",
      "val_acc: 0.68\n",
      "(15) [3/9] loss: 0.0786\n",
      "(15) [6/9] loss: 0.0388\n",
      "(15) [9/9] loss: 0.0498\n",
      "val_acc: 0.85\n",
      "(16) [3/9] loss: 0.0395\n",
      "(16) [6/9] loss: 0.0194\n",
      "(16) [9/9] loss: 0.0347\n",
      "val_acc: 0.85\n",
      "(17) [3/9] loss: 0.0273\n",
      "(17) [6/9] loss: 0.0321\n",
      "(17) [9/9] loss: 0.0358\n",
      "val_acc: 0.88\n",
      "(18) [3/9] loss: 0.0209\n",
      "(18) [6/9] loss: 0.0202\n",
      "(18) [9/9] loss: 0.0430\n",
      "val_acc: 0.89\n",
      "(19) [3/9] loss: 0.0176\n",
      "(19) [6/9] loss: 0.0174\n",
      "(19) [9/9] loss: 0.0216\n",
      "val_acc: 0.83\n",
      "(20) [3/9] loss: 0.0187\n",
      "(20) [6/9] loss: 0.0125\n",
      "(20) [9/9] loss: 0.0092\n",
      "val_acc: 0.84\n",
      "(21) [3/9] loss: 0.0098\n",
      "(21) [6/9] loss: 0.0204\n",
      "(21) [9/9] loss: 0.0117\n",
      "val_acc: 0.92\n",
      "(22) [3/9] loss: 0.0090\n",
      "(22) [6/9] loss: 0.0109\n",
      "(22) [9/9] loss: 0.0090\n",
      "val_acc: 0.92\n",
      "(23) [3/9] loss: 0.0090\n",
      "(23) [6/9] loss: 0.0077\n",
      "(23) [9/9] loss: 0.0066\n",
      "val_acc: 0.92\n",
      "(24) [3/9] loss: 0.0057\n",
      "(24) [6/9] loss: 0.0080\n",
      "(24) [9/9] loss: 0.0070\n",
      "val_acc: 0.92\n",
      "(25) [3/9] loss: 0.0059\n",
      "(25) [6/9] loss: 0.0068\n",
      "(25) [9/9] loss: 0.0076\n",
      "val_acc: 0.93\n",
      "(26) [3/9] loss: 0.0075\n",
      "(26) [6/9] loss: 0.0057\n",
      "(26) [9/9] loss: 0.0044\n",
      "val_acc: 0.91\n",
      "(27) [3/9] loss: 0.0080\n",
      "(27) [6/9] loss: 0.0049\n",
      "(27) [9/9] loss: 0.0090\n",
      "val_acc: 0.91\n",
      "(28) [3/9] loss: 0.0046\n",
      "(28) [6/9] loss: 0.0066\n",
      "(28) [9/9] loss: 0.0048\n",
      "val_acc: 0.92\n",
      "(29) [3/9] loss: 0.0064\n",
      "(29) [6/9] loss: 0.0043\n",
      "(29) [9/9] loss: 0.0036\n",
      "val_acc: 0.91\n",
      "(30) [3/9] loss: 0.0046\n",
      "(30) [6/9] loss: 0.0044\n",
      "(30) [9/9] loss: 0.0040\n",
      "val_acc: 0.92\n"
     ]
    }
   ],
   "source": [
    "EPOCHS = 30\n",
    "history = fit(EPOCHS)"
   ]
  },
  {
   "cell_type": "markdown",
   "metadata": {},
   "source": [
    "Visualize training process"
   ]
  },
  {
   "cell_type": "code",
   "execution_count": 15,
   "metadata": {},
   "outputs": [
    {
     "data": {
      "image/png": "[encoded data removed]",
      "text/plain": [
       "<matplotlib.figure.Figure at 0x7f20d9126da0>"
      ]
     },
     "metadata": {},
     "output_type": "display_data"
    }
   ],
   "source": [
    "epochs = range(1, EPOCHS+1)\n",
    "\n",
    "plt.plot(epochs, history['loss'], 'r')\n",
    "plt.title('Training loss')\n",
    "plt.show()"
   ]
  },
  {
   "cell_type": "code",
   "execution_count": 16,
   "metadata": {
    "scrolled": false
   },
   "outputs": [
    {
     "data": {
      "image/png": "[encoded data removed]",
      "text/plain": [
       "<matplotlib.figure.Figure at 0x7f20d9126ef0>"
      ]
     },
     "metadata": {},
     "output_type": "display_data"
    }
   ],
   "source": [
    "plt.plot(epochs, history['val_acc'], 'b')\n",
    "plt.title('Validation accuracy')\n",
    "plt.show()"
   ]
  },
  {
   "cell_type": "markdown",
   "metadata": {},
   "source": [
    "## Test"
   ]
  },
  {
   "cell_type": "code",
   "execution_count": 17,
   "metadata": {},
   "outputs": [],
   "source": [
    "def predict(X):\n",
    "    \"\"\"Arguments\n",
    "        X: numpy image, shape (H, W, C)\n",
    "    \"\"\"\n",
    "    # reshape\n",
    "    shape = X.shape\n",
    "    X = X.reshape((1, shape[2], shape[0], shape[1]))\n",
    "    # normalize\n",
    "    X = X / 255.\n",
    "    \n",
    "    X = torch.from_numpy(X.astype('float32'))\n",
    "    X = Variable(X, volatile=True)\n",
    "    \n",
    "    # forward\n",
    "    output = model.cpu()(X)\n",
    "\n",
    "    # get index of the max\n",
    "    _, index = output.data.max(1, keepdim=True)\n",
    "    return classes[index[0][0]] # index is a LongTensor -> need to get int data"
   ]
  },
  {
   "cell_type": "markdown",
   "metadata": {},
   "source": [
    "Sample predict from validation data"
   ]
  },
  {
   "cell_type": "code",
   "execution_count": 18,
   "metadata": {},
   "outputs": [
    {
     "data": {
      "image/png": "[encoded data removed]",
      "text/plain": [
       "<matplotlib.figure.Figure at 0x7f20d4ad8dd8>"
      ]
     },
     "metadata": {},
     "output_type": "display_data"
    }
   ],
   "source": [
    "import random\n",
    "\n",
    "_, _, X_val, y_val, classes = load_dataset()\n",
    "index = random.randint(0, len(X_val))\n",
    "\n",
    "pred = predict(X_val[index])\n",
    "\n",
    "plt.imshow(X_val[index])\n",
    "plt.title('Label: {}, Predict: {}'.format(np.squeeze(y_val[:,index]), pred))\n",
    "plt.show()"
   ]
  },
  {
   "cell_type": "markdown",
   "metadata": {},
   "source": [
    "## Export"
   ]
  },
  {
   "cell_type": "markdown",
   "metadata": {},
   "source": [
    "Extract model's trained weights"
   ]
  },
  {
   "cell_type": "code",
   "execution_count": 20,
   "metadata": {},
   "outputs": [],
   "source": [
    "import os\n",
    "\n",
    "MODEL_DIR = 'model'\n",
    "MODEL_PATH = os.path.join(MODEL_DIR, 'cnn.pth')\n",
    "\n",
    "if not os.path.exists(MODEL_DIR):\n",
    "    os.mkdir(MODEL_DIR)\n",
    "    \n",
    "torch.save(model.state_dict(), MODEL_PATH)"
   ]
  }
 ],
 "metadata": {
  "kernelspec": {
   "display_name": "Python 3",
   "language": "python",
   "name": "python3"
  },
  "language_info": {
   "codemirror_mode": {
    "name": "ipython",
    "version": 3
   },
   "file_extension": ".py",
   "mimetype": "text/x-python",
   "name": "python",
   "nbconvert_exporter": "python",
   "pygments_lexer": "ipython3",
   "version": "3.6.3"
  }
 },
 "nbformat": 4,
 "nbformat_minor": 2
}
